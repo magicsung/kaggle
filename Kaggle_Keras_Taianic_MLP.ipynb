{
 "cells": [
  {
   "cell_type": "markdown",
   "metadata": {
    "slideshow": {
     "slide_type": "-"
    }
   },
   "source": [
    "# 1. Import Library"
   ]
  },
  {
   "cell_type": "code",
   "execution_count": 2,
   "metadata": {
    "collapsed": true,
    "slideshow": {
     "slide_type": "-"
    }
   },
   "outputs": [],
   "source": [
    "import numpy\n",
    "import pandas as pd\n",
    "from sklearn import preprocessing\n",
    "numpy.random.seed(10)"
   ]
  },
  {
   "cell_type": "markdown",
   "metadata": {
    "collapsed": true
   },
   "source": [
    "# 資料準備"
   ]
  },
  {
   "cell_type": "code",
   "execution_count": 13,
   "metadata": {},
   "outputs": [],
   "source": [
    "cols=['Survived','Pclass','Name','Sex', 'Age', 'SibSp', 'Parch', 'Fare', 'Embarked']\n",
    "all_df = pd.read_csv(\"data/titanic_train.csv\", usecols=cols)\n",
    "final_test_df = pd.read_csv(\"data/titanic_test.csv\", usecols=cols.remove('Survived'))"
   ]
  },
  {
   "cell_type": "code",
   "execution_count": 14,
   "metadata": {},
   "outputs": [
    {
     "data": {
      "text/html": [
       "<div>\n",
       "<style>\n",
       "    .dataframe thead tr:only-child th {\n",
       "        text-align: right;\n",
       "    }\n",
       "\n",
       "    .dataframe thead th {\n",
       "        text-align: left;\n",
       "    }\n",
       "\n",
       "    .dataframe tbody tr th {\n",
       "        vertical-align: top;\n",
       "    }\n",
       "</style>\n",
       "<table border=\"1\" class=\"dataframe\">\n",
       "  <thead>\n",
       "    <tr style=\"text-align: right;\">\n",
       "      <th></th>\n",
       "      <th>Survived</th>\n",
       "      <th>Pclass</th>\n",
       "      <th>Name</th>\n",
       "      <th>Sex</th>\n",
       "      <th>Age</th>\n",
       "      <th>SibSp</th>\n",
       "      <th>Parch</th>\n",
       "      <th>Fare</th>\n",
       "      <th>Embarked</th>\n",
       "    </tr>\n",
       "  </thead>\n",
       "  <tbody>\n",
       "    <tr>\n",
       "      <th>0</th>\n",
       "      <td>0</td>\n",
       "      <td>3</td>\n",
       "      <td>Braund, Mr. Owen Harris</td>\n",
       "      <td>male</td>\n",
       "      <td>22.0</td>\n",
       "      <td>1</td>\n",
       "      <td>0</td>\n",
       "      <td>7.2500</td>\n",
       "      <td>S</td>\n",
       "    </tr>\n",
       "    <tr>\n",
       "      <th>1</th>\n",
       "      <td>1</td>\n",
       "      <td>1</td>\n",
       "      <td>Cumings, Mrs. John Bradley (Florence Briggs Th...</td>\n",
       "      <td>female</td>\n",
       "      <td>38.0</td>\n",
       "      <td>1</td>\n",
       "      <td>0</td>\n",
       "      <td>71.2833</td>\n",
       "      <td>C</td>\n",
       "    </tr>\n",
       "    <tr>\n",
       "      <th>2</th>\n",
       "      <td>1</td>\n",
       "      <td>3</td>\n",
       "      <td>Heikkinen, Miss. Laina</td>\n",
       "      <td>female</td>\n",
       "      <td>26.0</td>\n",
       "      <td>0</td>\n",
       "      <td>0</td>\n",
       "      <td>7.9250</td>\n",
       "      <td>S</td>\n",
       "    </tr>\n",
       "    <tr>\n",
       "      <th>3</th>\n",
       "      <td>1</td>\n",
       "      <td>1</td>\n",
       "      <td>Futrelle, Mrs. Jacques Heath (Lily May Peel)</td>\n",
       "      <td>female</td>\n",
       "      <td>35.0</td>\n",
       "      <td>1</td>\n",
       "      <td>0</td>\n",
       "      <td>53.1000</td>\n",
       "      <td>S</td>\n",
       "    </tr>\n",
       "    <tr>\n",
       "      <th>4</th>\n",
       "      <td>0</td>\n",
       "      <td>3</td>\n",
       "      <td>Allen, Mr. William Henry</td>\n",
       "      <td>male</td>\n",
       "      <td>35.0</td>\n",
       "      <td>0</td>\n",
       "      <td>0</td>\n",
       "      <td>8.0500</td>\n",
       "      <td>S</td>\n",
       "    </tr>\n",
       "  </tbody>\n",
       "</table>\n",
       "</div>"
      ],
      "text/plain": [
       "   Survived  Pclass                                               Name  \\\n",
       "0         0       3                            Braund, Mr. Owen Harris   \n",
       "1         1       1  Cumings, Mrs. John Bradley (Florence Briggs Th...   \n",
       "2         1       3                             Heikkinen, Miss. Laina   \n",
       "3         1       1       Futrelle, Mrs. Jacques Heath (Lily May Peel)   \n",
       "4         0       3                           Allen, Mr. William Henry   \n",
       "\n",
       "      Sex   Age  SibSp  Parch     Fare Embarked  \n",
       "0    male  22.0      1      0   7.2500        S  \n",
       "1  female  38.0      1      0  71.2833        C  \n",
       "2  female  26.0      0      0   7.9250        S  \n",
       "3  female  35.0      1      0  53.1000        S  \n",
       "4    male  35.0      0      0   8.0500        S  "
      ]
     },
     "execution_count": 14,
     "metadata": {},
     "output_type": "execute_result"
    }
   ],
   "source": [
    "all_df[:5]"
   ]
  },
  {
   "cell_type": "code",
   "execution_count": 15,
   "metadata": {},
   "outputs": [],
   "source": [
    "msk = numpy.random.rand(len(all_df)) < 0.8\n",
    "train_df = all_df[msk]\n",
    "test_df = all_df[~msk]"
   ]
  },
  {
   "cell_type": "code",
   "execution_count": 17,
   "metadata": {},
   "outputs": [
    {
     "name": "stdout",
     "output_type": "stream",
     "text": [
      "total: 891 train: 704 test: 187\n"
     ]
    }
   ],
   "source": [
    "print('total:',len(all_df),\n",
    "      'train:',len(train_df),\n",
    "      'test:',len(test_df))"
   ]
  },
  {
   "cell_type": "code",
   "execution_count": 20,
   "metadata": {
    "collapsed": true
   },
   "outputs": [],
   "source": [
    "def PreprocessData(raw_df):\n",
    "    df=raw_df.drop(['Name'], axis=1)\n",
    "    age_mean = df['Age'].mean()\n",
    "    df['Age'] = df['Age'].fillna(age_mean)\n",
    "    fare_mean = df['Fare'].mean()\n",
    "    df['Fare'] = df['Fare'].fillna(fare_mean)\n",
    "    df['Sex']= df['Sex'].map({'female':0, 'male': 1}).astype(int)\n",
    "    x_OneHot_df = pd.get_dummies(data=df,columns=[\"Embarked\" ])\n",
    "\n",
    "    ndarray = x_OneHot_df.values\n",
    "    Features = ndarray[:,1:]\n",
    "    Label = ndarray[:,0]\n",
    "\n",
    "    minmax_scale = preprocessing.MinMaxScaler(feature_range=(0, 1))\n",
    "    scaledFeatures=minmax_scale.fit_transform(Features)    \n",
    "    \n",
    "    return scaledFeatures,Label"
   ]
  },
  {
   "cell_type": "code",
   "execution_count": 21,
   "metadata": {},
   "outputs": [],
   "source": [
    "train_Features,train_Label=PreprocessData(train_df)\n",
    "test_Features,test_Label=PreprocessData(test_df)"
   ]
  },
  {
   "cell_type": "code",
   "execution_count": 73,
   "metadata": {},
   "outputs": [
    {
     "data": {
      "text/plain": [
       "array([[ 1.        ,  1.        ,  0.29328622,  0.125     ,  0.        ,\n",
       "         0.01415106,  0.        ,  0.        ,  1.        ],\n",
       "       [ 0.        ,  0.        ,  0.51073661,  0.125     ,  0.        ,\n",
       "         0.13913574,  1.        ,  0.        ,  0.        ],\n",
       "       [ 1.        ,  0.        ,  0.34764882,  0.        ,  0.        ,\n",
       "         0.01546857,  0.        ,  0.        ,  1.        ],\n",
       "       [ 0.        ,  0.        ,  0.46996466,  0.125     ,  0.        ,\n",
       "         0.1036443 ,  0.        ,  0.        ,  1.        ],\n",
       "       [ 1.        ,  1.        ,  0.39681058,  0.        ,  0.        ,\n",
       "         0.0165095 ,  0.        ,  1.        ,  0.        ]])"
      ]
     },
     "execution_count": 73,
     "metadata": {},
     "output_type": "execute_result"
    }
   ],
   "source": [
    "train_Features[:5]"
   ]
  },
  {
   "cell_type": "markdown",
   "metadata": {},
   "source": [
    "# 3. Create Model "
   ]
  },
  {
   "cell_type": "code",
   "execution_count": 27,
   "metadata": {},
   "outputs": [
    {
     "name": "stderr",
     "output_type": "stream",
     "text": [
      "Using TensorFlow backend.\n"
     ]
    }
   ],
   "source": [
    "from keras.models import Sequential\n",
    "from keras.layers import Dense,Dropout"
   ]
  },
  {
   "cell_type": "code",
   "execution_count": 28,
   "metadata": {
    "collapsed": true
   },
   "outputs": [],
   "source": [
    "model = Sequential()"
   ]
  },
  {
   "cell_type": "code",
   "execution_count": 29,
   "metadata": {
    "collapsed": true
   },
   "outputs": [],
   "source": [
    "model.add(Dense(units=40, input_dim=9, \n",
    "                kernel_initializer='uniform', \n",
    "                activation='relu'))"
   ]
  },
  {
   "cell_type": "code",
   "execution_count": 30,
   "metadata": {
    "collapsed": true
   },
   "outputs": [],
   "source": [
    "model.add(Dense(units=30, \n",
    "                kernel_initializer='uniform', \n",
    "                activation='relu'))"
   ]
  },
  {
   "cell_type": "code",
   "execution_count": 31,
   "metadata": {
    "collapsed": true
   },
   "outputs": [],
   "source": [
    "model.add(Dense(units=1, \n",
    "                kernel_initializer='uniform',\n",
    "                activation='sigmoid'))"
   ]
  },
  {
   "cell_type": "markdown",
   "metadata": {},
   "source": [
    "# 4. Train model"
   ]
  },
  {
   "cell_type": "code",
   "execution_count": 39,
   "metadata": {
    "collapsed": true
   },
   "outputs": [],
   "source": [
    "model.compile(loss='binary_crossentropy', \n",
    "              optimizer='adam', metrics=['accuracy'])"
   ]
  },
  {
   "cell_type": "code",
   "execution_count": 40,
   "metadata": {
    "scrolled": true
   },
   "outputs": [
    {
     "name": "stdout",
     "output_type": "stream",
     "text": [
      "Train on 633 samples, validate on 71 samples\n",
      "Epoch 1/50\n",
      "0s - loss: 0.4246 - acc: 0.8183 - val_loss: 0.4522 - val_acc: 0.7887\n",
      "Epoch 2/50\n",
      "0s - loss: 0.4185 - acc: 0.8073 - val_loss: 0.4504 - val_acc: 0.8028\n",
      "Epoch 3/50\n",
      "0s - loss: 0.4170 - acc: 0.8183 - val_loss: 0.4502 - val_acc: 0.8028\n",
      "Epoch 4/50\n",
      "0s - loss: 0.4173 - acc: 0.8183 - val_loss: 0.4533 - val_acc: 0.7887\n",
      "Epoch 5/50\n",
      "0s - loss: 0.4160 - acc: 0.8073 - val_loss: 0.4499 - val_acc: 0.7887\n",
      "Epoch 6/50\n",
      "0s - loss: 0.4171 - acc: 0.8104 - val_loss: 0.4513 - val_acc: 0.7887\n",
      "Epoch 7/50\n",
      "0s - loss: 0.4161 - acc: 0.8167 - val_loss: 0.4501 - val_acc: 0.7746\n",
      "Epoch 8/50\n",
      "0s - loss: 0.4154 - acc: 0.8152 - val_loss: 0.4495 - val_acc: 0.7887\n",
      "Epoch 9/50\n",
      "0s - loss: 0.4147 - acc: 0.8136 - val_loss: 0.4484 - val_acc: 0.7887\n",
      "Epoch 10/50\n",
      "0s - loss: 0.4132 - acc: 0.8152 - val_loss: 0.4467 - val_acc: 0.7887\n",
      "Epoch 11/50\n",
      "0s - loss: 0.4126 - acc: 0.8120 - val_loss: 0.4455 - val_acc: 0.8028\n",
      "Epoch 12/50\n",
      "0s - loss: 0.4151 - acc: 0.8073 - val_loss: 0.4411 - val_acc: 0.8028\n",
      "Epoch 13/50\n",
      "0s - loss: 0.4121 - acc: 0.8136 - val_loss: 0.4387 - val_acc: 0.8028\n",
      "Epoch 14/50\n",
      "0s - loss: 0.4135 - acc: 0.8073 - val_loss: 0.4374 - val_acc: 0.8169\n",
      "Epoch 15/50\n",
      "0s - loss: 0.4174 - acc: 0.8215 - val_loss: 0.4373 - val_acc: 0.8169\n",
      "Epoch 16/50\n",
      "0s - loss: 0.4135 - acc: 0.8025 - val_loss: 0.4369 - val_acc: 0.8169\n",
      "Epoch 17/50\n",
      "0s - loss: 0.4126 - acc: 0.8246 - val_loss: 0.4357 - val_acc: 0.8169\n",
      "Epoch 18/50\n",
      "0s - loss: 0.4111 - acc: 0.8104 - val_loss: 0.4373 - val_acc: 0.8169\n",
      "Epoch 19/50\n",
      "0s - loss: 0.4109 - acc: 0.8073 - val_loss: 0.4382 - val_acc: 0.8028\n",
      "Epoch 20/50\n",
      "0s - loss: 0.4126 - acc: 0.8183 - val_loss: 0.4355 - val_acc: 0.8169\n",
      "Epoch 21/50\n",
      "0s - loss: 0.4105 - acc: 0.8215 - val_loss: 0.4350 - val_acc: 0.8169\n",
      "Epoch 22/50\n",
      "0s - loss: 0.4118 - acc: 0.8057 - val_loss: 0.4328 - val_acc: 0.8169\n",
      "Epoch 23/50\n",
      "0s - loss: 0.4107 - acc: 0.8246 - val_loss: 0.4335 - val_acc: 0.8169\n",
      "Epoch 24/50\n",
      "0s - loss: 0.4081 - acc: 0.8152 - val_loss: 0.4326 - val_acc: 0.8169\n",
      "Epoch 25/50\n",
      "0s - loss: 0.4079 - acc: 0.8167 - val_loss: 0.4334 - val_acc: 0.8169\n",
      "Epoch 26/50\n",
      "0s - loss: 0.4102 - acc: 0.8246 - val_loss: 0.4350 - val_acc: 0.8169\n",
      "Epoch 27/50\n",
      "0s - loss: 0.4122 - acc: 0.7962 - val_loss: 0.4307 - val_acc: 0.8169\n",
      "Epoch 28/50\n",
      "0s - loss: 0.4118 - acc: 0.8120 - val_loss: 0.4281 - val_acc: 0.8169\n",
      "Epoch 29/50\n",
      "0s - loss: 0.4101 - acc: 0.8120 - val_loss: 0.4280 - val_acc: 0.8169\n",
      "Epoch 30/50\n",
      "0s - loss: 0.4067 - acc: 0.8183 - val_loss: 0.4325 - val_acc: 0.8169\n",
      "Epoch 31/50\n",
      "0s - loss: 0.4079 - acc: 0.8167 - val_loss: 0.4344 - val_acc: 0.8169\n",
      "Epoch 32/50\n",
      "0s - loss: 0.4087 - acc: 0.8009 - val_loss: 0.4338 - val_acc: 0.8169\n",
      "Epoch 33/50\n",
      "0s - loss: 0.4077 - acc: 0.8246 - val_loss: 0.4334 - val_acc: 0.8028\n",
      "Epoch 34/50\n",
      "0s - loss: 0.4062 - acc: 0.8215 - val_loss: 0.4332 - val_acc: 0.8169\n",
      "Epoch 35/50\n",
      "0s - loss: 0.4064 - acc: 0.8120 - val_loss: 0.4342 - val_acc: 0.8028\n",
      "Epoch 36/50\n",
      "0s - loss: 0.4066 - acc: 0.8215 - val_loss: 0.4298 - val_acc: 0.8169\n",
      "Epoch 37/50\n",
      "0s - loss: 0.4059 - acc: 0.8136 - val_loss: 0.4299 - val_acc: 0.8169\n",
      "Epoch 38/50\n",
      "0s - loss: 0.4146 - acc: 0.8088 - val_loss: 0.4275 - val_acc: 0.8169\n",
      "Epoch 39/50\n",
      "0s - loss: 0.4050 - acc: 0.8215 - val_loss: 0.4271 - val_acc: 0.8028\n",
      "Epoch 40/50\n",
      "0s - loss: 0.4077 - acc: 0.8073 - val_loss: 0.4299 - val_acc: 0.8028\n",
      "Epoch 41/50\n",
      "0s - loss: 0.4054 - acc: 0.8183 - val_loss: 0.4298 - val_acc: 0.8028\n",
      "Epoch 42/50\n",
      "0s - loss: 0.4065 - acc: 0.8199 - val_loss: 0.4285 - val_acc: 0.8028\n",
      "Epoch 43/50\n",
      "0s - loss: 0.4043 - acc: 0.8183 - val_loss: 0.4288 - val_acc: 0.8169\n",
      "Epoch 44/50\n",
      "0s - loss: 0.4039 - acc: 0.8120 - val_loss: 0.4295 - val_acc: 0.8028\n",
      "Epoch 45/50\n",
      "0s - loss: 0.4042 - acc: 0.8167 - val_loss: 0.4295 - val_acc: 0.8169\n",
      "Epoch 46/50\n",
      "0s - loss: 0.4055 - acc: 0.8152 - val_loss: 0.4292 - val_acc: 0.8028\n",
      "Epoch 47/50\n",
      "0s - loss: 0.4064 - acc: 0.8104 - val_loss: 0.4311 - val_acc: 0.8028\n",
      "Epoch 48/50\n",
      "0s - loss: 0.4091 - acc: 0.8231 - val_loss: 0.4272 - val_acc: 0.8169\n",
      "Epoch 49/50\n",
      "0s - loss: 0.4034 - acc: 0.8167 - val_loss: 0.4291 - val_acc: 0.8169\n",
      "Epoch 50/50\n",
      "0s - loss: 0.4040 - acc: 0.8136 - val_loss: 0.4281 - val_acc: 0.8028\n"
     ]
    }
   ],
   "source": [
    "train_history =model.fit(x=train_Features, \n",
    "                         y=train_Label, \n",
    "                         validation_split=0.1, \n",
    "                         epochs=50, \n",
    "                         batch_size=30,verbose=2)"
   ]
  },
  {
   "cell_type": "markdown",
   "metadata": {},
   "source": [
    "# 6. Print History"
   ]
  },
  {
   "cell_type": "code",
   "execution_count": 34,
   "metadata": {
    "collapsed": true
   },
   "outputs": [],
   "source": [
    "import matplotlib.pyplot as plt\n",
    "def show_train_history(train_history,train,validation):\n",
    "    plt.plot(train_history.history[train])\n",
    "    plt.plot(train_history.history[validation])\n",
    "    plt.title('Train History')\n",
    "    plt.ylabel(train)\n",
    "    plt.xlabel('Epoch')\n",
    "    plt.legend(['train', 'validation'], loc='upper left')\n",
    "    plt.show()"
   ]
  },
  {
   "cell_type": "code",
   "execution_count": 41,
   "metadata": {},
   "outputs": [
    {
     "data": {
      "image/png": "[encoded data removed]",
      "text/plain": [
       "<matplotlib.figure.Figure at 0x113ecfe10>"
      ]
     },
     "metadata": {},
     "output_type": "display_data"
    }
   ],
   "source": [
    "show_train_history(train_history,'acc','val_acc')"
   ]
  },
  {
   "cell_type": "code",
   "execution_count": 42,
   "metadata": {},
   "outputs": [
    {
     "data": {
      "image/png": "[encoded data removed]",
      "text/plain": [
       "<matplotlib.figure.Figure at 0x114fa8860>"
      ]
     },
     "metadata": {},
     "output_type": "display_data"
    }
   ],
   "source": [
    "show_train_history(train_history,'loss','val_loss')"
   ]
  },
  {
   "cell_type": "markdown",
   "metadata": {},
   "source": [
    "# 評估模型準確率"
   ]
  },
  {
   "cell_type": "code",
   "execution_count": 43,
   "metadata": {},
   "outputs": [
    {
     "name": "stdout",
     "output_type": "stream",
     "text": [
      "\r",
      " 32/187 [====>.........................] - ETA: 0s"
     ]
    }
   ],
   "source": [
    "scores = model.evaluate(x=test_Features, \n",
    "                        y=test_Label)"
   ]
  },
  {
   "cell_type": "code",
   "execution_count": 44,
   "metadata": {},
   "outputs": [
    {
     "data": {
      "text/plain": [
       "0.78609625445330211"
      ]
     },
     "execution_count": 44,
     "metadata": {},
     "output_type": "execute_result"
    }
   ],
   "source": [
    "scores[1]"
   ]
  },
  {
   "cell_type": "markdown",
   "metadata": {},
   "source": [
    "# 預測資料"
   ]
  },
  {
   "cell_type": "code",
   "execution_count": 91,
   "metadata": {},
   "outputs": [
    {
     "data": {
      "text/html": [
       "<div>\n",
       "<style>\n",
       "    .dataframe thead tr:only-child th {\n",
       "        text-align: right;\n",
       "    }\n",
       "\n",
       "    .dataframe thead th {\n",
       "        text-align: left;\n",
       "    }\n",
       "\n",
       "    .dataframe tbody tr th {\n",
       "        vertical-align: top;\n",
       "    }\n",
       "</style>\n",
       "<table border=\"1\" class=\"dataframe\">\n",
       "  <thead>\n",
       "    <tr style=\"text-align: right;\">\n",
       "      <th></th>\n",
       "      <th>Pclass</th>\n",
       "      <th>Name</th>\n",
       "      <th>Sex</th>\n",
       "      <th>Age</th>\n",
       "      <th>SibSp</th>\n",
       "      <th>Parch</th>\n",
       "      <th>Fare</th>\n",
       "      <th>Embarked</th>\n",
       "    </tr>\n",
       "  </thead>\n",
       "  <tbody>\n",
       "    <tr>\n",
       "      <th>0</th>\n",
       "      <td>3</td>\n",
       "      <td>Kelly, Mr. James</td>\n",
       "      <td>male</td>\n",
       "      <td>34.5</td>\n",
       "      <td>0</td>\n",
       "      <td>0</td>\n",
       "      <td>7.8292</td>\n",
       "      <td>Q</td>\n",
       "    </tr>\n",
       "    <tr>\n",
       "      <th>1</th>\n",
       "      <td>3</td>\n",
       "      <td>Wilkes, Mrs. James (Ellen Needs)</td>\n",
       "      <td>female</td>\n",
       "      <td>47.0</td>\n",
       "      <td>1</td>\n",
       "      <td>0</td>\n",
       "      <td>7.0000</td>\n",
       "      <td>S</td>\n",
       "    </tr>\n",
       "    <tr>\n",
       "      <th>2</th>\n",
       "      <td>2</td>\n",
       "      <td>Myles, Mr. Thomas Francis</td>\n",
       "      <td>male</td>\n",
       "      <td>62.0</td>\n",
       "      <td>0</td>\n",
       "      <td>0</td>\n",
       "      <td>9.6875</td>\n",
       "      <td>Q</td>\n",
       "    </tr>\n",
       "    <tr>\n",
       "      <th>3</th>\n",
       "      <td>3</td>\n",
       "      <td>Wirz, Mr. Albert</td>\n",
       "      <td>male</td>\n",
       "      <td>27.0</td>\n",
       "      <td>0</td>\n",
       "      <td>0</td>\n",
       "      <td>8.6625</td>\n",
       "      <td>S</td>\n",
       "    </tr>\n",
       "    <tr>\n",
       "      <th>4</th>\n",
       "      <td>3</td>\n",
       "      <td>Hirvonen, Mrs. Alexander (Helga E Lindqvist)</td>\n",
       "      <td>female</td>\n",
       "      <td>22.0</td>\n",
       "      <td>1</td>\n",
       "      <td>1</td>\n",
       "      <td>12.2875</td>\n",
       "      <td>S</td>\n",
       "    </tr>\n",
       "  </tbody>\n",
       "</table>\n",
       "</div>"
      ],
      "text/plain": [
       "   Pclass                                          Name     Sex   Age  SibSp  \\\n",
       "0       3                              Kelly, Mr. James    male  34.5      0   \n",
       "1       3              Wilkes, Mrs. James (Ellen Needs)  female  47.0      1   \n",
       "2       2                     Myles, Mr. Thomas Francis    male  62.0      0   \n",
       "3       3                              Wirz, Mr. Albert    male  27.0      0   \n",
       "4       3  Hirvonen, Mrs. Alexander (Helga E Lindqvist)  female  22.0      1   \n",
       "\n",
       "   Parch     Fare Embarked  \n",
       "0      0   7.8292        Q  \n",
       "1      0   7.0000        S  \n",
       "2      0   9.6875        Q  \n",
       "3      0   8.6625        S  \n",
       "4      1  12.2875        S  "
      ]
     },
     "execution_count": 91,
     "metadata": {},
     "output_type": "execute_result"
    }
   ],
   "source": [
    "cols=['Pclass','Name','Sex', 'Age', 'SibSp', 'Parch', 'Fare', 'Embarked']\n",
    "final_test_df = final_test_df[cols]\n",
    "final_test_df[:5]"
   ]
  },
  {
   "cell_type": "code",
   "execution_count": 95,
   "metadata": {
    "collapsed": true
   },
   "outputs": [],
   "source": [
    "def PreprocessFinalData(raw_df):\n",
    "    df=raw_df.drop(['Name'], axis=1)\n",
    "    age_mean = df['Age'].mean()\n",
    "    df['Age'] = df['Age'].fillna(age_mean)\n",
    "    fare_mean = df['Fare'].mean()\n",
    "    df['Fare'] = df['Fare'].fillna(fare_mean)\n",
    "    df['Sex']= df['Sex'].map({'female':0, 'male': 1}).astype(int)\n",
    "    x_OneHot_df = pd.get_dummies(data=df,columns=[\"Embarked\" ])\n",
    "\n",
    "    ndarray = x_OneHot_df.values\n",
    "    Features = ndarray\n",
    "\n",
    "    minmax_scale = preprocessing.MinMaxScaler(feature_range=(0, 1))\n",
    "    scaledFeatures=minmax_scale.fit_transform(Features)    \n",
    "    \n",
    "    return scaledFeatures"
   ]
  },
  {
   "cell_type": "code",
   "execution_count": 96,
   "metadata": {},
   "outputs": [],
   "source": [
    "final_test_features=PreprocessFinalData(final_test_df)"
   ]
  },
  {
   "cell_type": "code",
   "execution_count": 97,
   "metadata": {},
   "outputs": [
    {
     "data": {
      "text/plain": [
       "array([[ 1.        ,  1.        ,  0.4527232 ,  0.        ,  0.        ,\n",
       "         0.01528158,  0.        ,  1.        ,  0.        ],\n",
       "       [ 1.        ,  0.        ,  0.61756561,  0.125     ,  0.        ,\n",
       "         0.01366309,  0.        ,  0.        ,  1.        ],\n",
       "       [ 0.5       ,  1.        ,  0.8153765 ,  0.        ,  0.        ,\n",
       "         0.01890874,  0.        ,  1.        ,  0.        ],\n",
       "       [ 1.        ,  1.        ,  0.35381775,  0.        ,  0.        ,\n",
       "         0.01690807,  0.        ,  0.        ,  1.        ],\n",
       "       [ 1.        ,  0.        ,  0.28788079,  0.125     ,  0.11111111,\n",
       "         0.0239836 ,  0.        ,  0.        ,  1.        ]])"
      ]
     },
     "execution_count": 97,
     "metadata": {},
     "output_type": "execute_result"
    }
   ],
   "source": [
    "final_test_features[:5]"
   ]
  },
  {
   "cell_type": "code",
   "execution_count": 98,
   "metadata": {},
   "outputs": [
    {
     "name": "stdout",
     "output_type": "stream",
     "text": [
      "\r",
      " 32/418 [=>............................] - ETA: 0s"
     ]
    }
   ],
   "source": [
    "predict = model.predict_classes(final_test_features)"
   ]
  },
  {
   "cell_type": "code",
   "execution_count": 151,
   "metadata": {
    "scrolled": true
   },
   "outputs": [
    {
     "data": {
      "text/html": [
       "<div>\n",
       "<style>\n",
       "    .dataframe thead tr:only-child th {\n",
       "        text-align: right;\n",
       "    }\n",
       "\n",
       "    .dataframe thead th {\n",
       "        text-align: left;\n",
       "    }\n",
       "\n",
       "    .dataframe tbody tr th {\n",
       "        vertical-align: top;\n",
       "    }\n",
       "</style>\n",
       "<table border=\"1\" class=\"dataframe\">\n",
       "  <thead>\n",
       "    <tr style=\"text-align: right;\">\n",
       "      <th></th>\n",
       "      <th>0</th>\n",
       "    </tr>\n",
       "  </thead>\n",
       "  <tbody>\n",
       "    <tr>\n",
       "      <th>0</th>\n",
       "      <td>0</td>\n",
       "    </tr>\n",
       "    <tr>\n",
       "      <th>1</th>\n",
       "      <td>0</td>\n",
       "    </tr>\n",
       "    <tr>\n",
       "      <th>2</th>\n",
       "      <td>0</td>\n",
       "    </tr>\n",
       "    <tr>\n",
       "      <th>3</th>\n",
       "      <td>0</td>\n",
       "    </tr>\n",
       "    <tr>\n",
       "      <th>4</th>\n",
       "      <td>0</td>\n",
       "    </tr>\n",
       "    <tr>\n",
       "      <th>5</th>\n",
       "      <td>0</td>\n",
       "    </tr>\n",
       "    <tr>\n",
       "      <th>6</th>\n",
       "      <td>1</td>\n",
       "    </tr>\n",
       "    <tr>\n",
       "      <th>7</th>\n",
       "      <td>0</td>\n",
       "    </tr>\n",
       "    <tr>\n",
       "      <th>8</th>\n",
       "      <td>1</td>\n",
       "    </tr>\n",
       "    <tr>\n",
       "      <th>9</th>\n",
       "      <td>0</td>\n",
       "    </tr>\n",
       "    <tr>\n",
       "      <th>10</th>\n",
       "      <td>0</td>\n",
       "    </tr>\n",
       "    <tr>\n",
       "      <th>11</th>\n",
       "      <td>0</td>\n",
       "    </tr>\n",
       "    <tr>\n",
       "      <th>12</th>\n",
       "      <td>1</td>\n",
       "    </tr>\n",
       "    <tr>\n",
       "      <th>13</th>\n",
       "      <td>0</td>\n",
       "    </tr>\n",
       "    <tr>\n",
       "      <th>14</th>\n",
       "      <td>1</td>\n",
       "    </tr>\n",
       "    <tr>\n",
       "      <th>15</th>\n",
       "      <td>1</td>\n",
       "    </tr>\n",
       "    <tr>\n",
       "      <th>16</th>\n",
       "      <td>0</td>\n",
       "    </tr>\n",
       "    <tr>\n",
       "      <th>17</th>\n",
       "      <td>0</td>\n",
       "    </tr>\n",
       "    <tr>\n",
       "      <th>18</th>\n",
       "      <td>0</td>\n",
       "    </tr>\n",
       "    <tr>\n",
       "      <th>19</th>\n",
       "      <td>1</td>\n",
       "    </tr>\n",
       "    <tr>\n",
       "      <th>20</th>\n",
       "      <td>0</td>\n",
       "    </tr>\n",
       "    <tr>\n",
       "      <th>21</th>\n",
       "      <td>0</td>\n",
       "    </tr>\n",
       "    <tr>\n",
       "      <th>22</th>\n",
       "      <td>1</td>\n",
       "    </tr>\n",
       "    <tr>\n",
       "      <th>23</th>\n",
       "      <td>1</td>\n",
       "    </tr>\n",
       "    <tr>\n",
       "      <th>24</th>\n",
       "      <td>1</td>\n",
       "    </tr>\n",
       "    <tr>\n",
       "      <th>25</th>\n",
       "      <td>0</td>\n",
       "    </tr>\n",
       "    <tr>\n",
       "      <th>26</th>\n",
       "      <td>1</td>\n",
       "    </tr>\n",
       "    <tr>\n",
       "      <th>27</th>\n",
       "      <td>0</td>\n",
       "    </tr>\n",
       "    <tr>\n",
       "      <th>28</th>\n",
       "      <td>0</td>\n",
       "    </tr>\n",
       "    <tr>\n",
       "      <th>29</th>\n",
       "      <td>0</td>\n",
       "    </tr>\n",
       "    <tr>\n",
       "      <th>...</th>\n",
       "      <td>...</td>\n",
       "    </tr>\n",
       "    <tr>\n",
       "      <th>388</th>\n",
       "      <td>0</td>\n",
       "    </tr>\n",
       "    <tr>\n",
       "      <th>389</th>\n",
       "      <td>0</td>\n",
       "    </tr>\n",
       "    <tr>\n",
       "      <th>390</th>\n",
       "      <td>1</td>\n",
       "    </tr>\n",
       "    <tr>\n",
       "      <th>391</th>\n",
       "      <td>1</td>\n",
       "    </tr>\n",
       "    <tr>\n",
       "      <th>392</th>\n",
       "      <td>0</td>\n",
       "    </tr>\n",
       "    <tr>\n",
       "      <th>393</th>\n",
       "      <td>0</td>\n",
       "    </tr>\n",
       "    <tr>\n",
       "      <th>394</th>\n",
       "      <td>0</td>\n",
       "    </tr>\n",
       "    <tr>\n",
       "      <th>395</th>\n",
       "      <td>1</td>\n",
       "    </tr>\n",
       "    <tr>\n",
       "      <th>396</th>\n",
       "      <td>0</td>\n",
       "    </tr>\n",
       "    <tr>\n",
       "      <th>397</th>\n",
       "      <td>1</td>\n",
       "    </tr>\n",
       "    <tr>\n",
       "      <th>398</th>\n",
       "      <td>0</td>\n",
       "    </tr>\n",
       "    <tr>\n",
       "      <th>399</th>\n",
       "      <td>0</td>\n",
       "    </tr>\n",
       "    <tr>\n",
       "      <th>400</th>\n",
       "      <td>1</td>\n",
       "    </tr>\n",
       "    <tr>\n",
       "      <th>401</th>\n",
       "      <td>0</td>\n",
       "    </tr>\n",
       "    <tr>\n",
       "      <th>402</th>\n",
       "      <td>1</td>\n",
       "    </tr>\n",
       "    <tr>\n",
       "      <th>403</th>\n",
       "      <td>1</td>\n",
       "    </tr>\n",
       "    <tr>\n",
       "      <th>404</th>\n",
       "      <td>0</td>\n",
       "    </tr>\n",
       "    <tr>\n",
       "      <th>405</th>\n",
       "      <td>0</td>\n",
       "    </tr>\n",
       "    <tr>\n",
       "      <th>406</th>\n",
       "      <td>0</td>\n",
       "    </tr>\n",
       "    <tr>\n",
       "      <th>407</th>\n",
       "      <td>0</td>\n",
       "    </tr>\n",
       "    <tr>\n",
       "      <th>408</th>\n",
       "      <td>1</td>\n",
       "    </tr>\n",
       "    <tr>\n",
       "      <th>409</th>\n",
       "      <td>1</td>\n",
       "    </tr>\n",
       "    <tr>\n",
       "      <th>410</th>\n",
       "      <td>1</td>\n",
       "    </tr>\n",
       "    <tr>\n",
       "      <th>411</th>\n",
       "      <td>1</td>\n",
       "    </tr>\n",
       "    <tr>\n",
       "      <th>412</th>\n",
       "      <td>1</td>\n",
       "    </tr>\n",
       "    <tr>\n",
       "      <th>413</th>\n",
       "      <td>0</td>\n",
       "    </tr>\n",
       "    <tr>\n",
       "      <th>414</th>\n",
       "      <td>1</td>\n",
       "    </tr>\n",
       "    <tr>\n",
       "      <th>415</th>\n",
       "      <td>0</td>\n",
       "    </tr>\n",
       "    <tr>\n",
       "      <th>416</th>\n",
       "      <td>0</td>\n",
       "    </tr>\n",
       "    <tr>\n",
       "      <th>417</th>\n",
       "      <td>0</td>\n",
       "    </tr>\n",
       "  </tbody>\n",
       "</table>\n",
       "<p>418 rows × 1 columns</p>\n",
       "</div>"
      ],
      "text/plain": [
       "     0\n",
       "0    0\n",
       "1    0\n",
       "2    0\n",
       "3    0\n",
       "4    0\n",
       "5    0\n",
       "6    1\n",
       "7    0\n",
       "8    1\n",
       "9    0\n",
       "10   0\n",
       "11   0\n",
       "12   1\n",
       "13   0\n",
       "14   1\n",
       "15   1\n",
       "16   0\n",
       "17   0\n",
       "18   0\n",
       "19   1\n",
       "20   0\n",
       "21   0\n",
       "22   1\n",
       "23   1\n",
       "24   1\n",
       "25   0\n",
       "26   1\n",
       "27   0\n",
       "28   0\n",
       "29   0\n",
       "..  ..\n",
       "388  0\n",
       "389  0\n",
       "390  1\n",
       "391  1\n",
       "392  0\n",
       "393  0\n",
       "394  0\n",
       "395  1\n",
       "396  0\n",
       "397  1\n",
       "398  0\n",
       "399  0\n",
       "400  1\n",
       "401  0\n",
       "402  1\n",
       "403  1\n",
       "404  0\n",
       "405  0\n",
       "406  0\n",
       "407  0\n",
       "408  1\n",
       "409  1\n",
       "410  1\n",
       "411  1\n",
       "412  1\n",
       "413  0\n",
       "414  1\n",
       "415  0\n",
       "416  0\n",
       "417  0\n",
       "\n",
       "[418 rows x 1 columns]"
      ]
     },
     "execution_count": 151,
     "metadata": {},
     "output_type": "execute_result"
    }
   ],
   "source": [
    "pd.DataFrame(predict)"
   ]
  },
  {
   "cell_type": "code",
   "execution_count": 102,
   "metadata": {},
   "outputs": [],
   "source": [
    "raw_test_df = pd.read_csv(\"data/titanic_test.csv\")\n",
    "result_df = raw_test_df['PassengerId']"
   ]
  },
  {
   "cell_type": "code",
   "execution_count": 171,
   "metadata": {
    "scrolled": true
   },
   "outputs": [],
   "source": [
    "passengerId = pd.DataFrame(result_df)\n",
    "pretict_result = pd.DataFrame(predict)\n",
    "output_df = passengerId.join(pretict_result)\n",
    "output_df = output_df.rename(index=str, columns={0: \"Survived\"})"
   ]
  },
  {
   "cell_type": "code",
   "execution_count": 172,
   "metadata": {},
   "outputs": [],
   "source": [
    "output_df.to_csv(\"./data/submission.csv\", index=False)"
   ]
  },
  {
   "cell_type": "code",
   "execution_count": null,
   "metadata": {
    "collapsed": true
   },
   "outputs": [],
   "source": []
  }
 ],
 "metadata": {
  "anaconda-cloud": {},
  "kernelspec": {
   "display_name": "Python 3",
   "language": "python",
   "name": "python3"
  },
  "language_info": {
   "codemirror_mode": {
    "name": "ipython",
    "version": 3
   },
   "file_extension": ".py",
   "mimetype": "text/x-python",
   "name": "python",
   "nbconvert_exporter": "python",
   "pygments_lexer": "ipython3",
   "version": "3.6.1"
  }
 },
 "nbformat": 4,
 "nbformat_minor": 1
}
